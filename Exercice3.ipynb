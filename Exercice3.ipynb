{
 "cells": [
  {
   "cell_type": "code",
   "execution_count": 16,
   "metadata": {},
   "outputs": [],
   "source": [
    "#Exercice 3 \n",
    "#1: Réécrire la fonction msε en fonction de w0 (intercept,bias) et w1 (coef, slope)\n",
    "def mse(y, w0, w1, X):\n",
    "    return (1/len(y))*np.sum(np.square(np.array(y)-w0-w1*np.array(X)))"
   ]
  },
  {
   "cell_type": "code",
   "execution_count": 17,
   "metadata": {},
   "outputs": [],
   "source": [
    "import numpy as np"
   ]
  },
  {
   "cell_type": "code",
   "execution_count": 7,
   "metadata": {},
   "outputs": [
    {
     "data": {
      "text/plain": [
       "array([0.5, 1. , 1.5, 2. ])"
      ]
     },
     "execution_count": 7,
     "metadata": {},
     "output_type": "execute_result"
    }
   ],
   "source": [
    "# 2 Soit les dataset suivantes :\n",
    "X=[1,2,3,4]\n",
    "y=[1,2,3,4]\n",
    "\n"
   ]
  },
  {
   "cell_type": "code",
   "execution_count": 8,
   "metadata": {},
   "outputs": [
    {
     "data": {
      "text/plain": [
       "array([0, 0, 0, 0])"
      ]
     },
     "execution_count": 8,
     "metadata": {},
     "output_type": "execute_result"
    }
   ],
   "source": [
    "#a. Pour le dataset 1, on fixe w0 à 0 calculer y_predicted \n",
    "# a-1 pour (w0=0, w1=0)\n",
    "\n",
    "def h1(X):\n",
    "    w0 = 0\n",
    "    w1 = 0\n",
    "    return w0 + w1*np.array(X)\n",
    "\n",
    "y_predicted_h1 = h1(X)\n",
    "y_predicted_h1"
   ]
  },
  {
   "cell_type": "code",
   "execution_count": 11,
   "metadata": {},
   "outputs": [
    {
     "data": {
      "text/plain": [
       "array([0.5, 1. , 1.5, 2. ])"
      ]
     },
     "execution_count": 11,
     "metadata": {},
     "output_type": "execute_result"
    }
   ],
   "source": [
    "# a-2 pour (w0=0, w1=0.5)\n",
    "\n",
    "def h2(X):\n",
    "    w0 = 0\n",
    "    w1 = 0.5\n",
    "    return w0 + w1*np.array(X)\n",
    "\n",
    "y_predicted_h2 = h2(X)\n",
    "y_predicted_h2"
   ]
  },
  {
   "cell_type": "code",
   "execution_count": 10,
   "metadata": {},
   "outputs": [
    {
     "data": {
      "text/plain": [
       "array([1, 2, 3, 4])"
      ]
     },
     "execution_count": 10,
     "metadata": {},
     "output_type": "execute_result"
    }
   ],
   "source": [
    "# a-3 pour (w0=0, w1=1)\n",
    "def h3(X):\n",
    "    w0 = 0\n",
    "    w1 = 1\n",
    "    return w0 + w1*np.array(X)\n",
    "\n",
    "y_predicted_h3 = h3(X)\n",
    "y_predicted_h3"
   ]
  },
  {
   "cell_type": "code",
   "execution_count": 21,
   "metadata": {},
   "outputs": [],
   "source": [
    "#b. Calculer msε pour chaque couple (w0,w1) à l’aide de python (basé sur sklearn ou votre propre fonction)\n",
    "#mse pour  (w0=0, w1=0)\n",
    "mse_h1 = mse(y, 0, 0, X)"
   ]
  },
  {
   "cell_type": "code",
   "execution_count": 22,
   "metadata": {},
   "outputs": [],
   "source": [
    "# mse pour (w0=0, w1=0.5)\n",
    "mse_h2 = mse(y, 0, 0.5, X)"
   ]
  },
  {
   "cell_type": "code",
   "execution_count": 23,
   "metadata": {},
   "outputs": [],
   "source": [
    "#mse pour (w0=0, w1=1)\n",
    "mse_h3 = mse(y, 0, 1, X)\n"
   ]
  },
  {
   "cell_type": "code",
   "execution_count": 25,
   "metadata": {},
   "outputs": [
    {
     "data": {
      "text/plain": [
       "[<matplotlib.lines.Line2D at 0x1e349a41a30>]"
      ]
     },
     "execution_count": 25,
     "metadata": {},
     "output_type": "execute_result"
    },
    {
     "data": {
      "image/png": "[encoded data removed]",
      "text/plain": [
       "<Figure size 432x288 with 1 Axes>"
      ]
     },
     "metadata": {
      "needs_background": "light"
     },
     "output_type": "display_data"
    }
   ],
   "source": [
    "#Tracer le graphe qui visualise msε en fonction de w1 pour (w1=0, w1=0.5 et w1=1)\n",
    "import matplotlib.pyplot as plt\n",
    "plt.plot([0, 0.5, 1], [mse_h1, mse_h2, mse_h3])\n"
   ]
  },
  {
   "cell_type": "code",
   "execution_count": 26,
   "metadata": {},
   "outputs": [
    {
     "name": "stdout",
     "output_type": "stream",
     "text": [
      "[0.  0.1 0.2 0.3 0.4 0.5 0.6 0.7 0.8 0.9 1.  1.1 1.2 1.3 1.4 1.5 1.6 1.7\n",
      " 1.8 1.9 2.  2.1 2.2 2.3 2.4 2.5 2.6 2.7 2.8 2.9 3.  3.1 3.2 3.3 3.4 3.5\n",
      " 3.6 3.7 3.8 3.9]\n"
     ]
    }
   ],
   "source": [
    "# d- A l’aide de python générer une liste de valeur à l’aide de la fonction arange de la bibliothèque\n",
    "#numpy. La première valeur est 0 et la dernière est 3.9\n",
    "import numpy as np\n",
    "L1=np.arange(0,4,0.1)\n",
    "print(L1)"
   ]
  },
  {
   "cell_type": "code",
   "execution_count": 27,
   "metadata": {},
   "outputs": [
    {
     "data": {
      "text/plain": [
       "[7.5,\n",
       " 6.075000000000001,\n",
       " 4.800000000000001,\n",
       " 3.674999999999999,\n",
       " 2.6999999999999997,\n",
       " 1.875,\n",
       " 1.1999999999999993,\n",
       " 0.6749999999999997,\n",
       " 0.2999999999999998,\n",
       " 0.07499999999999996,\n",
       " 0.0,\n",
       " 0.07500000000000012,\n",
       " 0.3000000000000005,\n",
       " 0.6750000000000003,\n",
       " 1.2000000000000006,\n",
       " 1.875,\n",
       " 2.700000000000001,\n",
       " 3.6750000000000016,\n",
       " 4.800000000000001,\n",
       " 6.075000000000002,\n",
       " 7.5,\n",
       " 9.075000000000003,\n",
       " 10.800000000000004,\n",
       " 12.675000000000004,\n",
       " 14.700000000000006,\n",
       " 16.875,\n",
       " 19.200000000000003,\n",
       " 21.675000000000008,\n",
       " 24.300000000000008,\n",
       " 27.07500000000001,\n",
       " 30.0,\n",
       " 33.075,\n",
       " 36.30000000000001,\n",
       " 39.675000000000004,\n",
       " 43.20000000000002,\n",
       " 46.875,\n",
       " 50.7,\n",
       " 54.67500000000001,\n",
       " 58.80000000000001,\n",
       " 63.07500000000002]"
      ]
     },
     "execution_count": 27,
     "metadata": {},
     "output_type": "execute_result"
    }
   ],
   "source": [
    "#d -suit liste de valeur\n",
    "liste_mse = []\n",
    "for w1 in L1:\n",
    "    mserror = mse(y, 0, w1, X)\n",
    "    liste_mse.append(mserror)\n",
    "liste_mse"
   ]
  },
  {
   "cell_type": "code",
   "execution_count": 28,
   "metadata": {},
   "outputs": [
    {
     "data": {
      "text/plain": [
       "[<matplotlib.lines.Line2D at 0x1e349ab5be0>]"
      ]
     },
     "execution_count": 28,
     "metadata": {},
     "output_type": "execute_result"
    },
    {
     "data": {
      "image/png": "[encoded data removed]",
      "text/plain": [
       "<Figure size 432x288 with 1 Axes>"
      ]
     },
     "metadata": {
      "needs_background": "light"
     },
     "output_type": "display_data"
    }
   ],
   "source": [
    "#e. Tracer le graphe qui visualise msε en fonction de cette liste de w1\n",
    "plt.plot(L1, liste_mse)"
   ]
  },
  {
   "cell_type": "code",
   "execution_count": 29,
   "metadata": {},
   "outputs": [
    {
     "data": {
      "text/plain": [
       "array([1.5, 1.6, 1.7, 1.8, 1.9, 2. , 2.1, 2.2, 2.3, 2.4, 2.5, 2.6, 2.7,\n",
       "       2.8, 2.9, 3. , 3.1, 3.2, 3.3, 3.4, 3.5, 3.6, 3.7, 3.8, 3.9, 4. ,\n",
       "       4.1, 4.2, 4.3, 4.4, 4.5, 4.6, 4.7, 4.8, 4.9, 5. , 5.1, 5.2, 5.3,\n",
       "       5.4, 5.5, 5.6, 5.7, 5.8, 5.9])"
      ]
     },
     "execution_count": 29,
     "metadata": {},
     "output_type": "execute_result"
    }
   ],
   "source": [
    "#g -Prendre une autre liste L2= np.arange(1.5,6,0.1), retracer le graphe, conclusion\n",
    "L2= np.arange(1.5,6,0.1)\n",
    "L2"
   ]
  },
  {
   "cell_type": "code",
   "execution_count": 31,
   "metadata": {},
   "outputs": [
    {
     "data": {
      "text/plain": [
       "[1.875,\n",
       " 2.700000000000001,\n",
       " 3.6750000000000016,\n",
       " 4.8000000000000025,\n",
       " 6.075000000000005,\n",
       " 7.500000000000007,\n",
       " 9.075000000000008,\n",
       " 10.800000000000011,\n",
       " 12.675000000000015,\n",
       " 14.700000000000017,\n",
       " 16.87500000000002,\n",
       " 19.200000000000024,\n",
       " 21.675000000000026,\n",
       " 24.300000000000033,\n",
       " 27.07500000000003,\n",
       " 30.00000000000004,\n",
       " 33.075000000000045,\n",
       " 36.300000000000054,\n",
       " 39.675000000000054,\n",
       " 43.20000000000006,\n",
       " 46.875000000000064,\n",
       " 50.700000000000074,\n",
       " 54.67500000000008,\n",
       " 58.80000000000008,\n",
       " 63.075000000000095,\n",
       " 67.50000000000009,\n",
       " 72.0750000000001,\n",
       " 76.80000000000013,\n",
       " 81.67500000000013,\n",
       " 86.7000000000001,\n",
       " 91.87500000000014,\n",
       " 97.20000000000017,\n",
       " 102.67500000000015,\n",
       " 108.30000000000015,\n",
       " 114.07500000000019,\n",
       " 120.00000000000021,\n",
       " 126.0750000000002,\n",
       " 132.30000000000018,\n",
       " 138.67500000000024,\n",
       " 145.20000000000024,\n",
       " 151.87500000000023,\n",
       " 158.70000000000022,\n",
       " 165.67500000000027,\n",
       " 172.8000000000003,\n",
       " 180.07500000000027]"
      ]
     },
     "execution_count": 31,
     "metadata": {},
     "output_type": "execute_result"
    }
   ],
   "source": [
    "list_mse2 = []\n",
    "for w1 in L2:\n",
    "    mserror = mse(y, 0, w1, X)\n",
    "    list_mse2.append(mserror)\n",
    "list_mse2"
   ]
  },
  {
   "cell_type": "code",
   "execution_count": 32,
   "metadata": {},
   "outputs": [
    {
     "data": {
      "text/plain": [
       "[<matplotlib.lines.Line2D at 0x1e349b4d8b0>]"
      ]
     },
     "execution_count": 32,
     "metadata": {},
     "output_type": "execute_result"
    },
    {
     "data": {
      "image/png": "[encoded data removed]",
      "text/plain": [
       "<Figure size 432x288 with 1 Axes>"
      ]
     },
     "metadata": {
      "needs_background": "light"
     },
     "output_type": "display_data"
    }
   ],
   "source": [
    "plt.plot(L2, list_mse2)"
   ]
  },
  {
   "cell_type": "code",
   "execution_count": null,
   "metadata": {},
   "outputs": [],
   "source": []
  }
 ],
 "metadata": {
  "kernelspec": {
   "display_name": "Python 3",
   "language": "python",
   "name": "python3"
  },
  "language_info": {
   "codemirror_mode": {
    "name": "ipython",
    "version": 3
   },
   "file_extension": ".py",
   "mimetype": "text/x-python",
   "name": "python",
   "nbconvert_exporter": "python",
   "pygments_lexer": "ipython3",
   "version": "3.8.3"
  }
 },
 "nbformat": 4,
 "nbformat_minor": 4
}
